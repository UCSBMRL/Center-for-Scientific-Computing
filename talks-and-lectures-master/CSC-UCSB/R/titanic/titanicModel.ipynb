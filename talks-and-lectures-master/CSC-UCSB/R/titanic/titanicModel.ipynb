{
 "cells": [
  {
   "cell_type": "code",
   "execution_count": 60,
   "metadata": {
    "collapsed": false
   },
   "outputs": [],
   "source": [
    "## Imports\n",
    "import pandas as pd\n",
    "import numpy as np"
   ]
  },
  {
   "cell_type": "code",
   "execution_count": 61,
   "metadata": {
    "collapsed": true
   },
   "outputs": [],
   "source": [
    "# Read data\n",
    "train_data = pd.read_csv(\"./data/train.csv\")\n",
    "test_data = pd.read_csv(\"./data/test.csv\")"
   ]
  },
  {
   "cell_type": "code",
   "execution_count": 62,
   "metadata": {
    "collapsed": false
   },
   "outputs": [],
   "source": [
    "# Combine training and test data\n",
    "train_data['isTrain'] = 1\n",
    "test_data['isTrain'] = 0\n",
    "# Save outcomes and drop Survived from train\n",
    "outcomes = train_data['Survived']; \n",
    "train_data = train_data.drop('Survived', axis=1)\n",
    "\n",
    "# Finally join data\n",
    "full_data = pd.concat([train_data, test_data])"
   ]
  },
  {
   "cell_type": "code",
   "execution_count": 63,
   "metadata": {
    "collapsed": false
   },
   "outputs": [
    {
     "name": "stdout",
     "output_type": "stream",
     "text": [
      "Index([u'PassengerId', u'Pclass', u'Name', u'Sex', u'Age', u'SibSp', u'Parch',\n",
      "       u'Ticket', u'Fare', u'Cabin', u'Embarked', u'isTrain'],\n",
      "      dtype='object')\n",
      "(1309, 12)\n"
     ]
    }
   ],
   "source": [
    "# Look at the names, dimensions etc.\n",
    "print full_data.columns\n",
    "print full_data.shape"
   ]
  },
  {
   "cell_type": "code",
   "execution_count": 64,
   "metadata": {
    "collapsed": false
   },
   "outputs": [
    {
     "name": "stdout",
     "output_type": "stream",
     "text": [
      "Number of missing values in Age: 263\n",
      "Number of missing values in Pclass: 0\n",
      "Number of missing values in Sex: 0\n",
      "Number of missing values in SibSp: 0\n",
      "Number of missing values in Parch: 0\n",
      "Number of missing values in Fare: 1\n",
      "Number of missing values in Cabin: 1014\n",
      "Number of missing values in Embarked: 2\n"
     ]
    }
   ],
   "source": [
    "# Missing values\n",
    "print \"Number of missing values in Age:\", sum(pd.isnull(full_data['Age'])) \n",
    "print \"Number of missing values in Pclass:\", sum(pd.isnull(full_data['Pclass']))\n",
    "print \"Number of missing values in Sex:\", sum(pd.isnull(full_data['Sex']))\n",
    "print \"Number of missing values in SibSp:\", sum(pd.isnull(full_data['SibSp']))\n",
    "print \"Number of missing values in Parch:\", sum(pd.isnull(full_data['Parch']))\n",
    "print \"Number of missing values in Fare:\", sum(pd.isnull(full_data['Fare']))\n",
    "print \"Number of missing values in Cabin:\", sum(pd.isnull(full_data['Cabin']))\n",
    "print \"Number of missing values in Embarked:\", sum(pd.isnull(full_data['Embarked']))"
   ]
  },
  {
   "cell_type": "code",
   "execution_count": 65,
   "metadata": {
    "collapsed": false
   },
   "outputs": [],
   "source": [
    "# Impute missing values\n",
    "\n",
    "# Na:Age --> med:Age\n",
    "med_age = full_data['Age'].median()\n",
    "full_data['Age'] = full_data['Age'].fillna(med_age)\n",
    "\n",
    "# Na:Fare --> med:Fare\n",
    "med_fare = full_data['Fare'].median()\n",
    "full_data['Fare'] = full_data['Fare'].fillna(med_fare)\n",
    "\n",
    "# Na:Embarked --> Most common value\n",
    "groups = full_data.groupby('Embarked').size()\n",
    "mostComm_Embarked = groups.idxmax()\n",
    "full_data['Embarked'] = full_data['Embarked'].fillna(mostComm_Embarked)"
   ]
  },
  {
   "cell_type": "code",
   "execution_count": 66,
   "metadata": {
    "collapsed": false
   },
   "outputs": [],
   "source": [
    "# Too many passangers with missing cabin. Create a new feature has_cabin\n",
    "full_data['has_cabin'] = pd.isnull(full_data['Cabin']).astype('int')\n",
    "full_data = full_data.drop('Cabin', axis = 1)"
   ]
  },
  {
   "cell_type": "code",
   "execution_count": 67,
   "metadata": {
    "collapsed": false
   },
   "outputs": [
    {
     "data": {
      "text/plain": [
       "PassengerId    0\n",
       "Pclass         0\n",
       "Name           0\n",
       "Sex            0\n",
       "Age            0\n",
       "SibSp          0\n",
       "Parch          0\n",
       "Ticket         0\n",
       "Fare           0\n",
       "Embarked       0\n",
       "isTrain        0\n",
       "has_cabin      0\n",
       "dtype: int64"
      ]
     },
     "execution_count": 67,
     "metadata": {},
     "output_type": "execute_result"
    }
   ],
   "source": [
    "# Check whether all na's are removed\n",
    "pd.isnull(full_data).astype(int).sum()"
   ]
  },
  {
   "cell_type": "code",
   "execution_count": 68,
   "metadata": {
    "collapsed": false
   },
   "outputs": [],
   "source": [
    "## Factor variables\n",
    "Sex_factor = pd.get_dummies(full_data['Sex'], prefix='Sex', drop_first=True)\n",
    "Embarked_factor = pd.get_dummies(full_data['Embarked'], prefix='Emb')\n",
    "\n",
    "full_data = pd.concat([full_data, Sex_factor, Embarked_factor], axis = 1)\n",
    "\n",
    "# Drop features that are not useful\n",
    "full_data = full_data.drop(['Sex', 'Embarked', 'Name', 'Ticket'], axis=1)"
   ]
  },
  {
   "cell_type": "code",
   "execution_count": 69,
   "metadata": {
    "collapsed": true
   },
   "outputs": [],
   "source": [
    "# Standardize numeric features\n",
    "for feat in ['Pclass', 'Age', 'SibSp', 'Parch', 'Fare']:\n",
    "    mean, std = full_data[feat].mean(), full_data[feat].std()\n",
    "    full_data.loc[:, feat] = (full_data[feat]-mean)/std"
   ]
  },
  {
   "cell_type": "code",
   "execution_count": 70,
   "metadata": {
    "collapsed": false
   },
   "outputs": [],
   "source": [
    "# Split back into train and test\n",
    "train_data = full_data.loc[full_data['isTrain']==1]\n",
    "test_data = full_data.loc[full_data['isTrain']==0] \n",
    "\n",
    "# Drop PassangerId, not needed for training\n",
    "train_data = train_data.drop('PassengerId', axis = 1)"
   ]
  },
  {
   "cell_type": "code",
   "execution_count": 71,
   "metadata": {
    "collapsed": false
   },
   "outputs": [
    {
     "data": {
      "text/plain": [
       "GridSearchCV(cv=10, error_score='raise',\n",
       "       estimator=LogisticRegression(C=1.0, class_weight=None, dual=False, fit_intercept=True,\n",
       "          intercept_scaling=1, max_iter=100, multi_class='ovr', n_jobs=1,\n",
       "          penalty='l2', random_state=None, solver='liblinear', tol=0.0001,\n",
       "          verbose=0, warm_start=False),\n",
       "       fit_params={}, iid=True, n_jobs=1,\n",
       "       param_grid={'C': array([  1.00000e-02,   1.26638e-02,   1.60372e-02,   2.03092e-02,\n",
       "         2.57191e-02,   3.25702e-02,   4.12463e-02,   5.22335e-02,\n",
       "         6.61474e-02,   8.37678e-02,   1.06082e-01,   1.34340e-01,\n",
       "         1.70125e-01,   2.15443e-01,   2.72833e-01,   3.45511e-01,\n",
       "         4.3754...,   3.07029e+01,   3.88816e+01,\n",
       "         4.92388e+01,   6.23551e+01,   7.89652e+01,   1.00000e+02])},\n",
       "       pre_dispatch='2*n_jobs', refit=True, return_train_score=True,\n",
       "       scoring='roc_auc', verbose=0)"
      ]
     },
     "execution_count": 71,
     "metadata": {},
     "output_type": "execute_result"
    }
   ],
   "source": [
    "## Logistic Regression Model\n",
    "from sklearn.linear_model import LogisticRegression\n",
    "from sklearn.model_selection import cross_val_score\n",
    "from sklearn.model_selection import GridSearchCV\n",
    "from sklearn.metrics import roc_auc_score\n",
    "\n",
    "clf = LogisticRegression()\n",
    "Crng = np.logspace(-2, 2, 40)\n",
    "grid = GridSearchCV(clf, param_grid={'C': Crng}, scoring='roc_auc', cv = 10)\n",
    "#scores = cross_val_score(classifier, train_data, outcomes , scoring = 'roc_auc', cv = 10)\n",
    "\n",
    "## Fit the best model\n",
    "grid.fit(train_data, outcomes)"
   ]
  },
  {
   "cell_type": "code",
   "execution_count": 74,
   "metadata": {
    "collapsed": false
   },
   "outputs": [
    {
     "name": "stdout",
     "output_type": "stream",
     "text": [
      "('Best C:', '0.554102', 'Best AUC:', '0.854875')\n"
     ]
    }
   ],
   "source": [
    "print (\"Best C:\", \"{:.6f}\".format(grid.best_params_['C']), \"Best AUC:\", \\\n",
    "       \"{:.6f}\".format(grid.best_score_))"
   ]
  },
  {
   "cell_type": "code",
   "execution_count": 79,
   "metadata": {
    "collapsed": false
   },
   "outputs": [],
   "source": [
    "## Using the best model, prredict on the test set\n",
    "pred_test = grid.best_estimator_.predict(test_data.drop('PassengerId', axis=1))\n",
    "predictions = pd.DataFrame( { 'PassengerId': test_data['PassengerId'] , 'Survived': pred_test })\n",
    "\n",
    "# Write to file\n",
    "predictions.to_csv( 'titanic_pred.csv' , index = False )"
   ]
  }
 ],
 "metadata": {
  "kernelspec": {
   "display_name": "Python 2",
   "language": "python",
   "name": "python2"
  },
  "language_info": {
   "codemirror_mode": {
    "name": "ipython",
    "version": 2
   },
   "file_extension": ".py",
   "mimetype": "text/x-python",
   "name": "python",
   "nbconvert_exporter": "python",
   "pygments_lexer": "ipython2",
   "version": "2.7.6"
  }
 },
 "nbformat": 4,
 "nbformat_minor": 1
}
