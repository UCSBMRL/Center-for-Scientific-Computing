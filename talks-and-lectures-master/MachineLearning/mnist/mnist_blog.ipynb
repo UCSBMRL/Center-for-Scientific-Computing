{
 "cells": [
  {
   "cell_type": "markdown",
   "metadata": {},
   "source": [
    "# Yet another introduction to Neural Networks\n",
    "\n",
    "In this notebook, I will explain how to implement a neural network from scratch and use the version of MNIST dataset that is provided within Scikit-Learn for testing. I will specificallty illustrate the use of Python classes to define layers in the network as objects. Each layer object has forward and backward propagation methods which leads to compact, easily readable code. In writing this tutorial, I've had inspiration from [Peter Roelants'](http://peterroelants.github.io/) page. "
   ]
  },
  {
   "cell_type": "code",
   "execution_count": 1,
   "metadata": {
    "collapsed": true
   },
   "outputs": [],
   "source": [
    "## Imports\n",
    "\n",
    "import numpy as np\n",
    "from sklearn.datasets import load_digits"
   ]
  },
  {
   "cell_type": "markdown",
   "metadata": {},
   "source": [
    "### Data preparation\n",
    "\n",
    "After loading the data, we divide it into three parts, training, validation and testing sets. The validation set is to be used to determine the hyperparameters (i.e. number and size of hidden layers and regularization parameter) and the testing set is a separate picece of data to assess the final model performance. "
   ]
  },
  {
   "cell_type": "code",
   "execution_count": 2,
   "metadata": {
    "collapsed": false
   },
   "outputs": [],
   "source": [
    "## Load the data and reshape images\n",
    "digits = load_digits()\n",
    "n_samples = len(digits['images'])\n",
    "data = digits['images'].reshape((n_samples, -1)); targets = digits['target']\n",
    "\n",
    "## Train-test splitting\n",
    "from sklearn.model_selection import train_test_split\n",
    "X, X_test, y, y_test = train_test_split(data, targets, test_size=0.33, random_state=111)\n",
    "\n",
    "## Train and validation splitting\n",
    "X_train, X_valid, y_train, y_valid = train_test_split(X, y, test_size=0.40, random_state=123)"
   ]
  },
  {
   "cell_type": "markdown",
   "metadata": {},
   "source": [
    "### Activation function and classifier\n",
    "\n",
    "We will use the sigmoid activation function $\\sigma(x) = 1/(1+e^{-x})$ in the layers of the network. For the classifier, we will use the softmax functio, which results in class probabilities:\n",
    "\n",
    "$$ {\\rm softmax}_i({\\bf Y}) = \\frac{e^{Y_i}}{\\sum_{k=1}^K\\, e^{Y_k}} $$\n",
    "\n",
    "where $Y_i$ is vector from the output of the neural network for a given example, and $K$ is the number of classes (10 in our case). Both functions are implemented below:"
   ]
  },
  {
   "cell_type": "code",
   "execution_count": 3,
   "metadata": {
    "collapsed": true
   },
   "outputs": [],
   "source": [
    "## Define the activation function, the Softmax classifier \n",
    "# Sigmoid function\n",
    "def sigmoid(X):\n",
    "    return 1.0 / (1.0 + np.exp(-X))\n",
    "\n",
    "# Softmax function\n",
    "def softmax(X):\n",
    "    temp = np.max(X, axis = 0) # Determine the maximum of each column\n",
    "    X = X - temp               # Subtract the max from each: does not change outcome\n",
    "    return np.exp(X) / np.sum(np.exp(X), axis = 0) "
   ]
  },
  {
   "cell_type": "markdown",
   "metadata": {},
   "source": [
    "In the above implementations, the assumption is that the arguments of both functions are cast in a matrix columnwise, so that each column represents one example: $ {\\bf X} \\in {\\mathbb R}^{n_{\\rm feat} \\times N}$ where $N$ is the number of examples and $n_{\\rm feat}$ is the number of features (i.e. number of pixels in our case). In softmax, we have subtracted the maximum of each column from each training example vector, an operation that does not change the outcome, for numerical stability."
   ]
  },
  {
   "cell_type": "markdown",
   "metadata": {},
   "source": [
    "Now that we have our data, the activation function and the classifier, we can construct the layers of the network. \n",
    "\n",
    "### Linear Update\n",
    "\n",
    "First, we define the class LinearUpdate which performs the linear transformation of the (derived) features in the current layer:\n",
    "\n",
    "$${\\bf Y}^{(i)} = {\\bf W}^{T} \\cdot A^{(i)} + {\\bf b}$$ \n",
    "\n",
    "In this equation, ${\\bf A}^{(i)} \\in {\\mathbb R}^{n_{\\rm in}} $ represents the **current layer state** (i.e features in case of input layer and derived features in case of hidden layers) with $n_{\\rm in}$ being the number of neurons. $Y^{(i)} \\in {\\mathbb R}^{n_{\\in out}}$ is the linear ouput of the current layer (which will later be the argument of an activation function) which is passed  as the **input** to the next layer with $n_{\\rm out}$ neurons. The supersript (i) refers to the training example being considered. Instead of using a *for loop* over the training examples, we can cast them in a matrix where each column is one training example vector $Y^{(i)}$, i.e.\n",
    "\n",
    "$$Y^{(i)}_j \\rightarrow Y_{ji} : {\\bf Y} \\in {\\mathbb R}^{n_{\\rm out} \\times N}$$\n",
    "\n",
    "where $N$ is the number of training examples. Similary $A^{(i)}_j \\rightarrow A_{ji} : {\\bf A} \\in {\\mathbb R}^{n_{\\rm in} \\times N}$.\n",
    "\n",
    "#### Forward propagation\n",
    "\n",
    "The above equation can be simply written in matrix notation as ${\\mathbf Y} = {\\mathbf W}^T \\cdot {\\bf A} + {\\bf b}$. The weights ${\\bf W} \\in {\\mathbb R}^{n_{\\rm in} \\times n_{\\rm out}}$ and biases ${\\bf b} \\in {\\mathbb R}^{n_{\\rm in}}$ will be determined during training by the minimization of a loss function $L$. \n",
    "\n",
    "The LinearUpdate object is initialized with $n_{\\rm in}$, $n_{\\rm out}$, the weights and biases. The forward method below implements the above equation. \n",
    "\n",
    "#### Back propagation\n",
    "\n",
    "The backpropagation method simply takes the gradient of the loss function with respect to the **state of the next layer** ($\\nabla_{\\bf Y} L$) and computes the gradients with respect to the **current state** ($\\nabla_{\\bf A}L$), **weights** ($\\nabla_{\\bf W}L$) and **biases** ($\\nabla_{\\bf b}L$). The backpropagation rules can be derived by noting that:\n",
    "\n",
    "$$ Y_{ji} = \\sum_{k=1}^{n_{\\rm in}}\\, \\left( W^T \\right)_{jk}\\, A_{ki} + b_j $$\n",
    "\n",
    "First, the gradient of the loss function $L$ with respect to the weights ${\\bf W}$ can be written as:\n",
    "\n",
    "$$ \\frac{\\partial L}{\\partial W_{ln}} = \\sum_{i=1}^N\\, \\sum_{j=1}^{n_{\\rm out}}\\, \\frac{\\partial L}{\\partial Y_{ji}}\\, \\frac{\\partial Y_{ji}}{\\partial W_{ln}} = \\sum_{i=1}^N\\, \\frac{\\partial L}{\\partial Y_{ni}}\\, A_{li}$$\n",
    "\n",
    "We denote the gradient from the next layer $\\frac{\\partial L}{\\partial Y_{ji}}$ as $\\nabla_{\\bf Y} L$, and the above equation in matrix form becomes\n",
    "\n",
    "$$ \\nabla_{\\bf W} L = {\\bf A} \\cdot (\\nabla_{\\bf Y} L)^T$$\n",
    "\n",
    "Similarly, we can compute gradients with respect to ${\\bf A}$ and ${\\bf b}$, and following similar steps, we obtain\n",
    "\n",
    "$$ ( \\nabla_{\\bf b} L )_l = \\sum_{i=1}^N\\, (\\nabla_{\\bf Y} L)_{li} $$\n",
    "$$ \\nabla_{\\bf A} L = {\\bf W} \\cdot (\\nabla_{\\bf Y} L) $$\n",
    "\n",
    "All of these three backpropagation rules are implemented below in the backward method of LinearUpdate."
   ]
  },
  {
   "cell_type": "code",
   "execution_count": 4,
   "metadata": {
    "collapsed": true
   },
   "outputs": [],
   "source": [
    "## Define Linear Update\n",
    "class LinearUpdate(object):\n",
    "    def __init__ (self, n_in, n_out, W = None, b = None):\n",
    "        # Initialize W randomly\n",
    "        eps = np.sqrt(6.0) / np.sqrt(n_in + n_out)\n",
    "        self.W = (np.random.uniform(-eps, eps, (n_in, n_out)) if W is None else W)\n",
    "        \n",
    "        # Initialize biases as zero\n",
    "        self.b = np.zeros((n_out,1))\n",
    "        \n",
    "    def forward(self, A):\n",
    "        \"\"\" Forward propagation method: A is current state, method results in next state linearly\n",
    "            Y <- W.T * A + b\n",
    "        \"\"\"\n",
    "        return np.dot(self.W.T, A) + self.b\n",
    "    \n",
    "    def backward(self, A, gY):\n",
    "        \"\"\" Backward propagation method: A is current state, gY is backpropagated derivative from \n",
    "            next layer.\n",
    "        \"\"\"\n",
    "        gW = np.dot(A, gY.T)       # dL/dW_ab = sum_i A_ai * (gY)_bi\n",
    "        gA = np.dot(self.W, gY)    # dL/dA_ab = sum_j ( (W)_aj * gY_jb )  \n",
    "        gb = np.sum(gY, axis=1)    # dL/db_l = sum_i (gY)_li\n",
    "        \n",
    "        return gA, gW, gb"
   ]
  },
  {
   "cell_type": "markdown",
   "metadata": {},
   "source": [
    "### Logistic Update\n",
    "\n",
    "Now we implement the object which takes the outcome of the linear update, and transforms it with the actiovation function. Our choice for the activation is the sigmoid function defined above. The activation function takes the **input into the layer** (let's denote by $Z$) and generates an output $\\sigma(Z)$ which will be passed to the next layer. Specifically, we will have:\n",
    "\n",
    "$$ {\\bf Z} = {\\bf W}^T \\cdot {\\bf A} + {\\bf b}$$\n",
    "$$ {\\bf Y} = \\sigma({\\bf Z})$$\n",
    "\n",
    "i.e., the linear output ${\\bf Z}$ will be transformed by the activation function and then passed to the next layer. \n",
    "\n",
    "The forward and backward propagation methods are easily obtained as follows:\n",
    "\n",
    "$$ {\\bf Y} = \\sigma(Z), \\quad\n",
    "\\frac{\\partial L}{\\partial {\\bf Z}} = \\frac{\\partial L}{\\partial {\\bf Y}} \\cdot \\frac{\\partial {\\bf Y}}{\\partial {\\bf Z}} = {\\bf Y} \\odot (1-{\\bf Y}) \\odot (\\nabla_{\\bf Y}L)$$\n",
    "\n",
    "where ${\\bf Y}$ is the **input into the next layer** and $\\nabla_{\\bf Y}L$ is the gradient with respect to the **input of the next layer** and $\\odot$ denote elementwise multiplication."
   ]
  },
  {
   "cell_type": "code",
   "execution_count": 5,
   "metadata": {
    "collapsed": true
   },
   "outputs": [],
   "source": [
    "## Define Logistic Update\n",
    "class LogisticUpdate(object):\n",
    "    def forward(self, Z):\n",
    "        \"\"\" Sigmoid activation: \"\"\"\n",
    "        return sigmoid(Z) #  Y = sigmoid(Z)\n",
    "    \n",
    "    def backward(self, Y, grad_out):\n",
    "        \"\"\" Backward propagation: \"\"\"\n",
    "        return np.multiply(Y * (1 - Y), grad_out)   # dL/dZ = dL/dY * Y * (1-Y)"
   ]
  },
  {
   "cell_type": "markdown",
   "metadata": {},
   "source": [
    "### Classifier\n",
    "\n",
    "The output layer will be the classifier which deserves its own class. The forward method is still the sigmoid function, which will output class probabilities. The backward method implements the gradient of the loss function with respect to the outputs of the network. Finally, the crossEntropy method defines the loss function:\n",
    "\n",
    "$$ L = -\\frac{1}{N}\\, \\sum_{i=1}^{N}\\, \\sum_{k=1}^K\\, \\log(P_{ki})\\, I(T_i = k) $$\n",
    "\n",
    "where $P_{ki}$ is the calculated probability of training example $(i)$ being of class $k$, and the function $I$ is $1$ when the target (i.e. the actual value of the digit) is of class $k$, and zero otherwise. Evaluating the derivative of the loss function with respect to the **ouput layer state** ${\\bf Y}$ results in\n",
    "\n",
    "$$ \\frac{\\partial L}{\\partial {\\bf Y}}  = \\frac{1}{N}\\, ({\\bf P} - {\\bf I}) $$\n",
    "\n",
    "These methods are implemented below."
   ]
  },
  {
   "cell_type": "code",
   "execution_count": 6,
   "metadata": {
    "collapsed": true
   },
   "outputs": [],
   "source": [
    "# Define Softmax Classifier layer\n",
    "class SoftmaxClassifier(object):\n",
    "    def forward (self, A): \n",
    "        \"\"\" Given state A, produces output probs P by softmax \"\"\"\n",
    "        return softmax(A)\n",
    "    \n",
    "    def backward(self, P, T):\n",
    "        \"\"\" Given output probs P and targets T, produces output gradient \"\"\"\n",
    "        expansionMatrix = np.eye(P.shape[0], dtype = int)\n",
    "        expandedTarget = expansionMatrix[:, T]\n",
    "        \n",
    "        return P - expandedTarget # No division by number of samples yet.\n",
    "    \n",
    "    def crossEntropy(self, P, T):\n",
    "        \"\"\" Computes cross entropy \"\"\"\n",
    "        expansionMatrix = np.eye(P.shape[0], dtype = int)\n",
    "        expandedTarget = expansionMatrix[:, T]\n",
    "        \n",
    "        CE = -np.sum(expandedTarget * np.log(P + 1e-30))/P.shape[1]\n",
    "        return CE"
   ]
  },
  {
   "cell_type": "markdown",
   "metadata": {},
   "source": [
    "### Neurons\n",
    "\n",
    "Now that we have defined how states in a layer is forward propagated (first linearly, then by the activation function), we can use the LinearUpdate and LogisticUpdate classes to define the Layer class. The layer class first linearly transforms the current state vectors ${\\bf A}$ and then feeds them into the activation layer to yield the **input to the next layer** ${\\bf Y}$ by the forward method. In the backward method, the incoming gradient is first backpropagated through the logistic update, then by the linear update to yield the gradients with respect to **curent layer states**, weights and biases.\n",
    "\n",
    "Just for a sanity check, we can explicitly evaluate the backpropagation for ${\\bf A}$ as an example as follows:"
   ]
  },
  {
   "cell_type": "markdown",
   "metadata": {},
   "source": [
    "$$ {\\bf Y} = \\sigma({\\bf Z}), \\quad {\\bf Z} = {\\bf W}^T \\cdot {\\bf A} + {\\bf b}$$\n"
   ]
  },
  {
   "cell_type": "markdown",
   "metadata": {},
   "source": [
    "$$ \\frac{\\partial L}{\\partial A_{ln}} = \\sum_{i=1}^N\\, \\sum_{j=1}^{n_{\\rm out}}\\, \\frac{\\partial L}{\\partial Y_{ji}}\\, \\frac{\\partial Y_{ji}}{\\partial Z_{ji}}\\, \\frac{\\partial Z_{ji}}{\\partial A_{ln}} = \\sum_{j=1}^{n_{\\rm out}}\\, (\\nabla_{\\bf Y} L)_{jn}\\, Y_{jn}\\, (1-Y_{jn})\\, W_{lj}$$"
   ]
  },
  {
   "cell_type": "markdown",
   "metadata": {},
   "source": [
    "$$ (\\nabla_{\\bf A} L) =  {\\bf W} \\cdot \\left[{\\bf Y} \\odot (1-{\\bf Y}) \\odot (\\nabla_{\\bf Y}L) \\right]$$"
   ]
  },
  {
   "cell_type": "markdown",
   "metadata": {},
   "source": [
    "which are is implemented in two steps; first ${\\bf Y} \\odot (1-{\\bf Y}) \\odot (\\nabla_{\\bf Y}L)$ as the backward method of the LogisticUpdate which is fed into the backward method of LinearUpdate to yield its dot product with ${\\bf W}$."
   ]
  },
  {
   "cell_type": "code",
   "execution_count": 7,
   "metadata": {
    "collapsed": true
   },
   "outputs": [],
   "source": [
    "## Define Layes (combine linear and logistic updates)\n",
    "class Layer(object):\n",
    "    def __init__ (self, n_in, n_out):\n",
    "        self.linear = LinearUpdate(n_in, n_out)\n",
    "        self.logistic = LogisticUpdate()\n",
    "        \n",
    "    def forward(self, A):\n",
    "        \"\"\" Forward propagation method \"\"\"\n",
    "        return self.logistic.forward(self.linear.forward(A))\n",
    "    \n",
    "    def backward(self, A, Y, grad_out):\n",
    "        \"\"\" Backward propagation method \"\"\"\n",
    "        # First the derivative of the logistic State\n",
    "        gZ = self.logistic.backward(Y, grad_out)\n",
    "        # Then, gZ becomes gY for the linear state\n",
    "        gA, gW, gb = self.linear.backward(A, gZ) \n",
    "        \n",
    "        return gA, gW, gb "
   ]
  },
  {
   "cell_type": "markdown",
   "metadata": {},
   "source": [
    "## Construct the network\n",
    "\n",
    "Now we have the Layers and the Classifier objects, we can construct the neural network. We also add a regularization term to the loss function, which will be determined by the validation set performance below.\n",
    "The regularization term is given by\n",
    "\n",
    "$$ L_{\\rm reg} = \\frac{\\lambda}{2 N}\\, \\sum_{l=1}^{N_{\\rm layers}}\\, \\vert {\\bf W}_l \\vert^2 $$\n",
    "\n",
    "which is a sum over all the layers and penalizes the weights in all the layers using their square norm defined as\n",
    "\n",
    "$$ \\vert {\\bf W}_l \\vert^2 = \\sum_{i,j}\\, (W_l)_{ij}^2 $$"
   ]
  },
  {
   "cell_type": "code",
   "execution_count": 8,
   "metadata": {
    "collapsed": true
   },
   "outputs": [],
   "source": [
    "## Construct a two hidden layer network\n",
    "class nnet(object):\n",
    "    def __init__ (self, nInput, nHidden1, nHidden2, K):\n",
    "        \"\"\" Initiate method for the net \"\"\"\n",
    "        self.inputLayer = Layer(nInput, nHidden1)     # Input layer\n",
    "        self.hiddenLayer1 = Layer(nHidden1, nHidden2) # 1st hidden layers\n",
    "        self.hiddenLayer2 = Layer(nHidden2, K)        # 2nd hidden layer\n",
    "        self.classifier = SoftmaxClassifier()         # Output: classification\n",
    "    \n",
    "    def forward(self, input_train):\n",
    "        \"\"\" Perform forward propagation through all layers \"\"\"\n",
    "        A1 = input_train.T                 # Initial data\n",
    "        A2 = self.inputLayer.forward(A1)   # inp -> hid1 \n",
    "        A3 = self.hiddenLayer1.forward(A2) # hid1 -> hid2\n",
    "        A4 = self.hiddenLayer2.forward(A3) # hid2 -> out\n",
    "        P = self.classifier.forward(A4)    # output probabilities\n",
    "        \n",
    "        return A1, A2, A3, A4, P\n",
    "    \n",
    "    def backward(self, P, A4, A3, A2, A1, T, lam = 0.0):\n",
    "        \"\"\" Back propagation method through all layers \"\"\"\n",
    "        grad_out = self.classifier.backward(P, T)                    # output grads\n",
    "        gA3, gW3, gb3 = self.hiddenLayer2.backward(A3, A4, grad_out) # hid2 grads\n",
    "        gA2, gW2, gb2 = self.hiddenLayer1.backward(A2, A3, gA3)      # hid1 grads\n",
    "        gA1, gW1, gb1 = self.inputLayer.backward(A1, A2, gA2)        # input grads\n",
    "        \n",
    "        # Add regularization terms to the gradients\n",
    "        if (lam > 0.0):\n",
    "            gW3 += lam * self.hiddenLayer2.linear.W\n",
    "            gW2 += lam * self.hiddenLayer1.linear.W\n",
    "            gW1 += lam * self.inputLayer.linear.W\n",
    "        \n",
    "        return grad_out, gW3, gb3, gW2, gb2, gW1, gb1\n",
    "    \n",
    "    def Loss(self, P, T, lam = 0.0):\n",
    "        \"\"\" Method for computing loss \"\"\"        \n",
    "        # Regularization term\n",
    "        reg = np.sum(self.inputLayer.linear.W**2) + np.sum(self.hiddenLayer1.linear.W**2) + \\\n",
    "              np.sum(self.hiddenLayer2.linear.W**2)\n",
    "        \n",
    "        # Full loss\n",
    "        return self.classifier.crossEntropy(P, T) + (0.5*lam/P.shape[1]) * reg"
   ]
  },
  {
   "cell_type": "markdown",
   "metadata": {},
   "source": [
    "Below is a function that will be used to train the network. We use the momentum method to update the gradients of weights as follows:\n",
    "\n",
    "$$ {\\bf V} \\leftarrow \\mu\\, {\\bf V} - \\alpha\\, \\nabla_{\\bf W}\\, L $$\n",
    "$$ {\\bf W} \\leftarrow {\\bf W} + {\\bf V} $$\n",
    "\n",
    "where $\\mu$ is the momentum and $\\alpha$ is the learning rate. A similar update method also holds for the biases. All velocities are initialized as zeros in the beginning. You can read more about the mometum method [here](http://sebastianruder.com/optimizing-gradient-descent/index.html#momentum). \n",
    "\n",
    "This function returns the trained network, calculated training and validation losses, and the validation accuracy. As a side note, we are using all the training data to compute the gradients. This is because the training set is small enough. In real situtations, one would be advised to batches. You can read more about these [here](http://sebastianruder.com/optimizing-gradient-descent/index.html#batchgradientdescent)."
   ]
  },
  {
   "cell_type": "code",
   "execution_count": 9,
   "metadata": {
    "collapsed": true
   },
   "outputs": [],
   "source": [
    "def trainNetwork(epochs, learningRate, momentum, lam, n_hidden_1, n_hidden_2, K):\n",
    "    \"\"\" Function for training the network \"\"\"\n",
    "    \n",
    "    ## Construct network\n",
    "    network = nnet(n_input, n_hidden_1, n_hidden_2, K)\n",
    "    \n",
    "    ## Initiate velocities\n",
    "    v_W1 = np.zeros_like(network.inputLayer.linear.W) \n",
    "    v_W2 = np.zeros_like(network.hiddenLayer1.linear.W)\n",
    "    v_W3 = np.zeros_like(network.hiddenLayer2.linear.W)\n",
    "    v_b1 = np.zeros_like(network.inputLayer.linear.b) \n",
    "    v_b2 = np.zeros_like(network.hiddenLayer1.linear.b)\n",
    "    v_b3 = np.zeros_like(network.hiddenLayer2.linear.b)\n",
    "    \n",
    "    ## Train\n",
    "    losses = {'train':[], 'validation':[]}\n",
    "    for epoch in range(epochs):\n",
    "        # Feed forward \n",
    "        A1, A2, A3, A4, P = network.forward(X_train)\n",
    "        \n",
    "        # Backprop\n",
    "        grad_out, gW3, gb3, gW2, gb2, gW1, gb1 = network.backward(P, A4, A3, A2, A1, y_train, lam)\n",
    "    \n",
    "        # Update weights by momentum method (Divide by the number of examples in the batch)\n",
    "        v_W1 = momentum * v_W1 - learningRate * gW1/n_train\n",
    "        v_W2 = momentum * v_W2 - learningRate * gW2/n_train\n",
    "        v_W3 = momentum * v_W3 - learningRate * gW3/n_train\n",
    "    \n",
    "        network.hiddenLayer2.linear.W += v_W3\n",
    "        network.hiddenLayer1.linear.W += v_W2\n",
    "        network.inputLayer.linear.W += v_W1\n",
    "    \n",
    "        # Update biases by momentum method (Divide by the number of examples in the batch)\n",
    "        v_b1 = momentum * v_b1 - learningRate * gb1[:,None]/n_train\n",
    "        v_b2 = momentum * v_b2 - learningRate * gb2[:,None]/n_train\n",
    "        v_b3 = momentum * v_b3 - learningRate * gb3[:,None]/n_train\n",
    "    \n",
    "        network.hiddenLayer2.linear.b += v_b3\n",
    "        network.hiddenLayer1.linear.b += v_b2\n",
    "        network.inputLayer.linear.b += v_b1\n",
    "    \n",
    "        # Compute loss on training set\n",
    "        loss_train = network.Loss(P, y_train, lam)\n",
    "        losses['train'].append(loss_train)\n",
    "    \n",
    "        # Compute loss on validation set\n",
    "        A1, A2, A3, A4, P = network.forward(X_valid)\n",
    "        loss_valid = network.Loss(P, y_valid, lam)\n",
    "        losses['validation'].append(loss_valid)\n",
    "        \n",
    "        # Compute validation accuracy\n",
    "        pred = np.argmax(P, axis = 0)\n",
    "        \n",
    "        # Accuracy\n",
    "        acc = np.sum((pred == y_valid).astype(float))/y_valid.shape[0]\n",
    "\n",
    "    # Return the trained network and the losses\n",
    "    return network, losses, acc"
   ]
  },
  {
   "cell_type": "markdown",
   "metadata": {},
   "source": [
    "### Determining the hyperparameters\n",
    "\n",
    "Now we will train the network for a range of values for hyperparameters and determine the best ones based on their performance on the validation set. For illustration, we only choose to optimize the regularization parameter $\\lambda$ and keep all others constant. "
   ]
  },
  {
   "cell_type": "code",
   "execution_count": 10,
   "metadata": {
    "collapsed": false
   },
   "outputs": [
    {
     "name": "stdout",
     "output_type": "stream",
     "text": [
      "Trained 1 of 10 networks\n",
      "Trained 2 of 10 networks\n",
      "Trained 3 of 10 networks\n",
      "Trained 4 of 10 networks\n",
      "Trained 5 of 10 networks\n",
      "Trained 6 of 10 networks\n",
      "Trained 7 of 10 networks\n",
      "Trained 8 of 10 networks\n",
      "Trained 9 of 10 networks\n",
      "Trained 10 of 10 networks\n"
     ]
    }
   ],
   "source": [
    "## Setup: For this example, just vary the regularization parameter\n",
    "epochs=1000\n",
    "learningRate = 0.2\n",
    "momentum = 0.9\n",
    "\n",
    "# Network structure\n",
    "n_hidden_1 = 48\n",
    "n_hidden_2 = 32\n",
    "K = 10\n",
    "n_input = X_train.shape[1]\n",
    "n_train = X_train.shape[0]\n",
    "\n",
    "# Values of lambda to try\n",
    "lambda_l2 = np.logspace(-2,2,10)\n",
    "\n",
    "# Train\n",
    "dict_acc = {'lambda':[], 'acc':[]}; count=1\n",
    "for lam in lambda_l2:\n",
    "    network, _, acc = trainNetwork(epochs, learningRate, momentum, lam, n_hidden_1, n_hidden_2, K)\n",
    "    dict_acc['lambda'].append(lam)\n",
    "    dict_acc['acc'].append(acc)\n",
    "    print \"Trained %d of %d networks\" % (count, lambda_l2.shape[0])\n",
    "    count +=1"
   ]
  },
  {
   "cell_type": "markdown",
   "metadata": {},
   "source": [
    "Let's plot the accuracy as a function of the regularization parameter:"
   ]
  },
  {
   "cell_type": "code",
   "execution_count": 11,
   "metadata": {
    "collapsed": false
   },
   "outputs": [
    {
     "data": {
      "text/plain": [
       "<matplotlib.text.Text at 0x7efc663c6a90>"
      ]
     },
     "execution_count": 11,
     "metadata": {},
     "output_type": "execute_result"
    },
    {
     "data": {
      "image/png": "[encoded data removed]",
      "text/plain": [
       "<matplotlib.figure.Figure at 0x7efc680a5e50>"
      ]
     },
     "metadata": {},
     "output_type": "display_data"
    }
   ],
   "source": [
    "## Plot the training and validation losses\n",
    "%matplotlib inline\n",
    "import matplotlib.pyplot as plt\n",
    "\n",
    "plt.plot(dict_acc['lambda'],dict_acc['acc'])\n",
    "plt.xlabel('lambda')\n",
    "plt.ylabel('Accuracy')"
   ]
  },
  {
   "cell_type": "markdown",
   "metadata": {},
   "source": [
    "### Final Network\n",
    "\n",
    "Now that we have determined the value of $\\lambda$ using the validation set, we can train the network one last time and predict on the test set. This will give us the prediction accuracy of our network. "
   ]
  },
  {
   "cell_type": "code",
   "execution_count": 12,
   "metadata": {
    "collapsed": false,
    "scrolled": false
   },
   "outputs": [
    {
     "name": "stdout",
     "output_type": "stream",
     "text": [
      "Best lambda: 0.599484, Validation set accuracy: 0.964730\n",
      "Test set accuracy: 0.959596\n"
     ]
    }
   ],
   "source": [
    "# Best lambda\n",
    "lam_best = lambda_l2[np.argmax(dict_acc['acc'])]\n",
    "best_validation_acc = max(dict_acc['acc'])\n",
    "\n",
    "# One final training with the best model\n",
    "network, losses, acc = trainNetwork(epochs, learningRate, momentum, lam_best, n_hidden_1, n_hidden_2, K)\n",
    "\n",
    "## Predict on the test set\n",
    "A1, A2, A3, A4, P = network.forward(X_test)\n",
    "\n",
    "# Predict digits\n",
    "pred_test = np.argmax(P, axis = 0)\n",
    "        \n",
    "# Accuracy\n",
    "acc_test = np.sum((pred_test == y_test).astype(float))/y_test.shape[0]\n",
    "\n",
    "print \"Best lambda: %.6f, Validation set accuracy: %.6f\" % (lam_best, acc)\n",
    "print \"Test set accuracy: %.6f\" % acc_test"
   ]
  },
  {
   "cell_type": "markdown",
   "metadata": {},
   "source": [
    "Pretty good!\n",
    "\n",
    "Finally, let's plot the training and validation loss values during the training. Since we are using the full batch to train the model (i.e. all the training set), we do not observe any oscillations and a smooth decrease of the loss function."
   ]
  },
  {
   "cell_type": "code",
   "execution_count": 13,
   "metadata": {
    "collapsed": false,
    "scrolled": true
   },
   "outputs": [
    {
     "data": {
      "text/plain": [
       "<matplotlib.legend.Legend at 0x7efc6637c790>"
      ]
     },
     "execution_count": 13,
     "metadata": {},
     "output_type": "execute_result"
    },
    {
     "data": {
      "image/png": "[encoded data removed]",
      "text/plain": [
       "<matplotlib.figure.Figure at 0x7efc663cf850>"
      ]
     },
     "metadata": {},
     "output_type": "display_data"
    }
   ],
   "source": [
    "## Plot the training and validation losses\n",
    "%matplotlib inline\n",
    "import matplotlib.pyplot as plt\n",
    "\n",
    "plt.plot(losses['train'], label='Training loss')\n",
    "plt.plot(losses['validation'], label='Validation loss')\n",
    "plt.legend()"
   ]
  }
 ],
 "metadata": {
  "kernelspec": {
   "display_name": "Python 2",
   "language": "python",
   "name": "python2"
  },
  "language_info": {
   "codemirror_mode": {
    "name": "ipython",
    "version": 2
   },
   "file_extension": ".py",
   "mimetype": "text/x-python",
   "name": "python",
   "nbconvert_exporter": "python",
   "pygments_lexer": "ipython2",
   "version": "2.7.6"
  }
 },
 "nbformat": 4,
 "nbformat_minor": 1
}
