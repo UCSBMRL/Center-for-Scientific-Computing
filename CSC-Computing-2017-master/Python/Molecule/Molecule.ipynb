{
 "cells": [
  {
   "cell_type": "markdown",
   "metadata": {},
   "source": [
    "# Tutorial 2: Computing Molecular Charge densities\n",
    "\n",
    "In this tutorial, we will consider an example of using Python classes. \n",
    "\n",
    "As an example, we will construct a data type `molecule` which stores the types and number of elements it contains as well as a charge density in a given grid. The charge density will be computed using *pre-computed* elemental charge densities, which will be superposed. The charge density at an arbitrary point will be computed using interpolation. The [InterpolatedUnivariateSpline](https://docs.scipy.org/doc/scipy-0.19.1/reference/generated/scipy.interpolate.InterpolatedUnivariateSpline.html) function from the Scipy package will be used for this purpose."
   ]
  },
  {
   "cell_type": "code",
   "execution_count": 1,
   "metadata": {
    "collapsed": true
   },
   "outputs": [],
   "source": [
    "import numpy as np\n",
    "from utils import utils # Notice how we import our own module\n",
    "import os\n",
    "import matplotlib.pyplot as plt\n",
    "import matplotlib.cm as cm\n",
    "from scipy.interpolate import InterpolatedUnivariateSpline\n",
    "\n",
    "%matplotlib inline"
   ]
  },
  {
   "cell_type": "markdown",
   "metadata": {},
   "source": [
    "Let's first specify the folder where the pre-computed charge densities for elements are located:"
   ]
  },
  {
   "cell_type": "code",
   "execution_count": 2,
   "metadata": {
    "collapsed": true
   },
   "outputs": [],
   "source": [
    "# PP folder\n",
    "pp_folder = 'PP'"
   ]
  },
  {
   "cell_type": "markdown",
   "metadata": {},
   "source": [
    "You can call shell commands from a notebook using `!`. For example, let's list the contents of `PP`:"
   ]
  },
  {
   "cell_type": "code",
   "execution_count": 3,
   "metadata": {
    "collapsed": false
   },
   "outputs": [
    {
     "name": "stdout",
     "output_type": "stream",
     "text": [
      "C.pbe-n-rrkjus_psl.0.1.UPF H.pbe-rrkjus_psl.0.1.UPF\r\n"
     ]
    }
   ],
   "source": [
    "!ls PP"
   ]
  },
  {
   "cell_type": "markdown",
   "metadata": {},
   "source": [
    "Let's plot the precomputed charge densities:"
   ]
  },
  {
   "cell_type": "code",
   "execution_count": 4,
   "metadata": {
    "collapsed": false
   },
   "outputs": [],
   "source": [
    "elements = {'H':'H.pbe-rrkjus_psl.0.1.UPF', 'C':'C.pbe-n-rrkjus_psl.0.1.UPF'} \n",
    "\n",
    "# Assign the path to each element file \n",
    "path_to_H = os.path.join(pp_folder,elements['H'])\n",
    "path_to_C = os.path.join(pp_folder,elements['C'])\n",
    "\n",
    "# Use the utilities to read the radial charge density as well as the radial grid:\n",
    "rho_H, r_H = utils.getPP(path_to_H)\n",
    "rho_C, r_C = utils.getPP(path_to_C)"
   ]
  },
  {
   "cell_type": "code",
   "execution_count": 5,
   "metadata": {
    "collapsed": false
   },
   "outputs": [
    {
     "data": {
      "image/png": "[encoded data removed]",
      "text/plain": [
       "<matplotlib.figure.Figure at 0x10d2e5b38>"
      ]
     },
     "metadata": {},
     "output_type": "display_data"
    }
   ],
   "source": [
    "# Setup plot\n",
    "fig, (ax1,ax2) = plt.subplots(1,2,figsize=(12,6))\n",
    "ax1.plot(r_H, rho_H, 'b*')\n",
    "ax2.plot(r_C, rho_C, 'r*')\n",
    "ax1.set_xlim([0,5])\n",
    "ax2.set_xlim([0,5])\n",
    "ax1.set_xlabel('Radial ditance')\n",
    "ax2.set_xlabel('Radial ditance')\n",
    "ax1.set_title('H-radial charge density')\n",
    "ax2.set_title('C-radial charge density')\n",
    "plt.show()"
   ]
  },
  {
   "cell_type": "markdown",
   "metadata": {},
   "source": [
    "## Construct a molecule class for computing charge density on a grid"
   ]
  },
  {
   "cell_type": "markdown",
   "metadata": {},
   "source": [
    "Compute charge density on a grid of points ${\\bf r}$ using a superposition of charge densities of elements (this is a good first approximation to the actual charge density):\n",
    "\n",
    "$$ \\rho ({\\bf r}) = \\sum_{a=0}^{N}\\, \\rho_a ( \\vert {\\bf r} - {\\bf r}_a \\vert) $$\n",
    "\n",
    "where $\\rho_a$ is the charge density for a given atom with label \"a\". In order to achieve this, we need to perform the following steps:\n",
    "\n",
    "1. Read the structure of the molecule from file\n",
    "2. For each element in the molecule, read its pre-computed charge density\n",
    "3. Construct an interpolation function which can determine the charge density at an arbitrary point\n",
    "4. Supply a grid of points (n,n,n) where the charge density will be computed\n",
    "5. Compute the charge density on this grid\n",
    " "
   ]
  },
  {
   "cell_type": "markdown",
   "metadata": {},
   "source": [
    "<img src=\"img/density.png\" alt=\"Drawing\" style=\"width: 600px;\"/>"
   ]
  },
  {
   "cell_type": "markdown",
   "metadata": {},
   "source": [
    "The above figure shows what we are trying to do schematically. The (valence) charge density of each atom is spherically symmetric, and we will use a rectangular grid of points to compute the molecular charge density. \n",
    "\n",
    "The grid will contain points that are not originally in the radial grid that we have read from file for each atom. We will need to interpolate. \n",
    "\n",
    "The `molecule` class below contains the data (charge density) and *methods* (i.e. functions) that process this data. The application programming interface (API) of this class can be summarized as follows:\n",
    "\n",
    "```python\n",
    "class Molecule(object):\n",
    "    def __init__(self, name)   # Constructor\n",
    "    def read_input(self)       # Method to read atomic charge densities from file\n",
    "    def interpolate_PP(self)   # Method to interpolate charge densities\n",
    "    def get_charge_density(self, box, n) # Given a box size, and number of points, compute charge density\n",
    "```\n",
    "\n",
    "Below is the implementation:"
   ]
  },
  {
   "cell_type": "code",
   "execution_count": 6,
   "metadata": {
    "collapsed": true
   },
   "outputs": [],
   "source": [
    "class Molecule(object):\n",
    "    def __init__ (self, name):\n",
    "        self.name = name\n",
    "        assert os.path.exists(name), \"No input for molecule found!\"\n",
    "        \n",
    "        # Read positions and atomic species from input\n",
    "        self.read_input()\n",
    "        \n",
    "    def read_input(self):\n",
    "        with open(self.name, 'r') as f:\n",
    "            lines = f.readlines()\n",
    "            natoms = 0\n",
    "            species = {}\n",
    "            \n",
    "            for ii,line in enumerate(lines):\n",
    "                if line.strip() == \"ATOMIC_SPECIES\":\n",
    "                    continue\n",
    "            \n",
    "                if line.strip() == \"ATOMIC_POSITIONS\":\n",
    "                    start_pos = ii\n",
    "                    break\n",
    "            \n",
    "                natoms += int(line.split()[1])\n",
    "                species[line.split()[0]] = [int(line.split()[1]),float(line.split()[2]), line.split()[3]]\n",
    "         \n",
    "    \n",
    "            # Positions\n",
    "            pos = np.zeros((natoms,3))\n",
    "    \n",
    "            # Read positions\n",
    "            i = 0\n",
    "            for l in range(start_pos+1,len(lines)):\n",
    "                line = lines[l].split()[1:]\n",
    "                pos[i] = np.array(line)\n",
    "                i +=1\n",
    "        \n",
    "        # Save atomic species, number of atoms and positions in the object\n",
    "        self.species = species\n",
    "        self.natoms = natoms\n",
    "        self.pos = pos / 0.529 # Convert from Angstrom to atomic units\n",
    "    \n",
    "    def interpolate_PP(self):\n",
    "        \"\"\" Get interpolated charge density for each species \"\"\"\n",
    "        \n",
    "        dictSplines = {}\n",
    "        for k, v in self.species.items():\n",
    "            path_to_pp = os.path.join(pp_folder, v[2])\n",
    "            radialDensity, radialGrid = utils.getPP(path_to_pp)\n",
    "            \n",
    "            # Construct spline and save in the dictionary\n",
    "            spl = InterpolatedUnivariateSpline(radialGrid, radialDensity)\n",
    "            dictSplines[k] = spl\n",
    "        \n",
    "        self.dictSplines = dictSplines\n",
    "    \n",
    "    def get_charge_density(self, box, n):\n",
    "        \"\"\" Construct charge density\n",
    "            box : Size of the box where the molecule is in (units of a.u.)\n",
    "            n   : Number of points in one direction. Total number is nxnxn\n",
    "        \"\"\"\n",
    "        # Generate a grid\n",
    "        ngrid = n**3\n",
    "        x = np.linspace(0,box,n)\n",
    "        y = np.linspace(0,box,n)\n",
    "        z = np.linspace(0,box,n)\n",
    "        \n",
    "        grid = np.vstack(np.meshgrid(x,y,z)).reshape(3,-1).T\n",
    "        self.grid = grid # Save grid in the object for later use\n",
    "        \n",
    "        # Get all the masses and elements as a list\n",
    "        masses = []\n",
    "        atom_list = []\n",
    "        for k, v in self.species.items():\n",
    "            mass = float(v[1])\n",
    "            masses.extend([mass]*v[0])\n",
    "            atom_list.extend([k]*v[0])\n",
    "          \n",
    "        # Compute center of mass\n",
    "        r_cm = np.dot(np.array(masses), self.pos) / np.sum(masses)\n",
    "        \n",
    "        # Move molecule to the center of the box\n",
    "        pos = self.pos - r_cm + np.array([box/2.0, box/2.0, box/2.0])\n",
    "        \n",
    "        # Obtain the interpolated radial charge densities\n",
    "        self.interpolate_PP()\n",
    "        \n",
    "        # Compute density contribution from each atom\n",
    "        densityByAtom = np.zeros((self.natoms, n**3)) # Initiate\n",
    "        \n",
    "        for iat in range(self.natoms):\n",
    "            R_at_rel = np.sqrt( (pos[iat,0] - grid[:,0])**2 + (pos[iat,1] - grid[:,1])**2 + \n",
    "                                (pos[iat,2] - grid[:,2])**2 )\n",
    "            \n",
    "            # Compute the value at the grid points from the spline\n",
    "            densityByAtom[iat,:] = self.dictSplines[atom_list[iat]](R_at_rel)\n",
    "        \n",
    "        # Sum over all atoms\n",
    "        rho = np.sum(densityByAtom, axis=0)\n",
    "        \n",
    "        return rho\n",
    "            "
   ]
  },
  {
   "cell_type": "markdown",
   "metadata": {},
   "source": [
    "The input file that we use to read data on the molecule:"
   ]
  },
  {
   "cell_type": "code",
   "execution_count": 7,
   "metadata": {
    "collapsed": false
   },
   "outputs": [
    {
     "name": "stdout",
     "output_type": "stream",
     "text": [
      "ATOMIC_SPECIES\r\n",
      "C  6 12.0  C.pbe-n-rrkjus_psl.0.1.UPF \r\n",
      "H  6 1.00  H.pbe-rrkjus_psl.0.1.UPF \r\n",
      "ATOMIC_POSITIONS\r\n",
      "C       0.0000  1.3970  0.0000\r\n",
      "C       1.2098  0.6985  0.0000\r\n",
      "C       1.2098 -0.6985  0.0000\r\n",
      "C       0.0000 -1.3970  0.0000\r\n",
      "C      -1.2098 -0.6985  0.0000\r\n",
      "C      -1.2098  0.6985  0.0000\r\n",
      "H       0.0000  2.4810  0.0000\r\n",
      "H       2.1486  1.2405  0.0000\r\n",
      "H       2.1486 -1.2405  0.0000\r\n",
      "H       0.0000 -2.4810  0.0000\r\n",
      "H      -2.1486 -1.2405  0.0000\r\n",
      "H      -2.1486  1.2405  0.0000\r\n"
     ]
    }
   ],
   "source": [
    "!cat benzene "
   ]
  },
  {
   "cell_type": "code",
   "execution_count": 8,
   "metadata": {
    "collapsed": false
   },
   "outputs": [],
   "source": [
    "# Construct the molecule object\n",
    "mol = Molecule('benzene')"
   ]
  },
  {
   "cell_type": "code",
   "execution_count": 9,
   "metadata": {
    "collapsed": false
   },
   "outputs": [],
   "source": [
    "# Now compute charge density\n",
    "box = 20\n",
    "n = 100\n",
    "rho = mol.get_charge_density(box, n)"
   ]
  },
  {
   "cell_type": "markdown",
   "metadata": {},
   "source": [
    "Let's look at the first 10 grid points (of 100x100x100)"
   ]
  },
  {
   "cell_type": "code",
   "execution_count": 11,
   "metadata": {
    "collapsed": false
   },
   "outputs": [
    {
     "data": {
      "text/plain": [
       "array([[ 0.        ,  0.        ,  0.        ],\n",
       "       [ 0.        ,  0.        ,  0.2020202 ],\n",
       "       [ 0.        ,  0.        ,  0.4040404 ],\n",
       "       [ 0.        ,  0.        ,  0.60606061],\n",
       "       [ 0.        ,  0.        ,  0.80808081],\n",
       "       [ 0.        ,  0.        ,  1.01010101],\n",
       "       [ 0.        ,  0.        ,  1.21212121],\n",
       "       [ 0.        ,  0.        ,  1.41414141],\n",
       "       [ 0.        ,  0.        ,  1.61616162],\n",
       "       [ 0.        ,  0.        ,  1.81818182]])"
      ]
     },
     "execution_count": 11,
     "metadata": {},
     "output_type": "execute_result"
    }
   ],
   "source": [
    "mol.grid[:10,]"
   ]
  },
  {
   "cell_type": "markdown",
   "metadata": {},
   "source": [
    "Now the ones between 100 to 110:"
   ]
  },
  {
   "cell_type": "code",
   "execution_count": 12,
   "metadata": {
    "collapsed": false,
    "scrolled": false
   },
   "outputs": [
    {
     "data": {
      "text/plain": [
       "array([[ 0.2020202 ,  0.        ,  0.        ],\n",
       "       [ 0.2020202 ,  0.        ,  0.2020202 ],\n",
       "       [ 0.2020202 ,  0.        ,  0.4040404 ],\n",
       "       [ 0.2020202 ,  0.        ,  0.60606061],\n",
       "       [ 0.2020202 ,  0.        ,  0.80808081],\n",
       "       [ 0.2020202 ,  0.        ,  1.01010101],\n",
       "       [ 0.2020202 ,  0.        ,  1.21212121],\n",
       "       [ 0.2020202 ,  0.        ,  1.41414141],\n",
       "       [ 0.2020202 ,  0.        ,  1.61616162],\n",
       "       [ 0.2020202 ,  0.        ,  1.81818182]])"
      ]
     },
     "execution_count": 12,
     "metadata": {},
     "output_type": "execute_result"
    }
   ],
   "source": [
    "mol.grid[100:110,:]"
   ]
  },
  {
   "cell_type": "markdown",
   "metadata": {},
   "source": [
    "Let's look at the positions:"
   ]
  },
  {
   "cell_type": "code",
   "execution_count": 13,
   "metadata": {
    "collapsed": false
   },
   "outputs": [
    {
     "data": {
      "text/plain": [
       "array([[ 0.        ,  2.64083176,  0.        ],\n",
       "       [ 2.28695652,  1.32041588,  0.        ],\n",
       "       [ 2.28695652, -1.32041588,  0.        ],\n",
       "       [ 0.        , -2.64083176,  0.        ],\n",
       "       [-2.28695652, -1.32041588,  0.        ],\n",
       "       [-2.28695652,  1.32041588,  0.        ],\n",
       "       [ 0.        ,  4.6899811 ,  0.        ],\n",
       "       [ 4.06162571,  2.34499055,  0.        ],\n",
       "       [ 4.06162571, -2.34499055,  0.        ],\n",
       "       [ 0.        , -4.6899811 ,  0.        ],\n",
       "       [-4.06162571, -2.34499055,  0.        ],\n",
       "       [-4.06162571,  2.34499055,  0.        ]])"
      ]
     },
     "execution_count": 13,
     "metadata": {},
     "output_type": "execute_result"
    }
   ],
   "source": [
    "mol.pos"
   ]
  },
  {
   "cell_type": "markdown",
   "metadata": {},
   "source": [
    "Plot molecular density in this grid at a slice $z=0$:"
   ]
  },
  {
   "cell_type": "code",
   "execution_count": 14,
   "metadata": {
    "collapsed": false
   },
   "outputs": [],
   "source": [
    "def plot_density(X_grid, X_rho):\n",
    "    \"\"\" Plotting the density pm3d style \"\"\"\n",
    "    # Write density at z = box/2  \n",
    "    npts = X_grid.shape[0]\n",
    "    nz = int(npts**(1.0/3.0)//2)\n",
    "\n",
    "    X = []\n",
    "    for ipt in range(npts):\n",
    "        if (np.abs(X_grid[ipt,2]-X_grid[nz,2]) < 1e-6):\n",
    "            X.append([X_grid[ipt,0], X_grid[ipt,1], X_rho[ipt]])\n",
    "            \n",
    "    X_plt = np.array(X)\n",
    "    x = X_plt[:,0]; y = X_plt[:,1]; z = X_plt[:,2]\n",
    "    N = int(len(z)**0.5)\n",
    "    z = z.reshape(N,N)\n",
    "        \n",
    "    plt.figure(figsize=(6,6))\n",
    "    plt.imshow(z, extent=(np.amin(x), np.amax(x), np.amin(y), np.amax(y)),\n",
    "                 cmap=cm.hot)\n",
    "        \n",
    "    \n",
    "    plt.show()\n"
   ]
  },
  {
   "cell_type": "code",
   "execution_count": 15,
   "metadata": {
    "collapsed": false,
    "scrolled": false
   },
   "outputs": [
    {
     "data": {
      "image/png": "[encoded data removed]",
      "text/plain": [
       "<matplotlib.figure.Figure at 0x10af092b0>"
      ]
     },
     "metadata": {},
     "output_type": "display_data"
    }
   ],
   "source": [
    "plot_density(mol.grid, rho)"
   ]
  },
  {
   "cell_type": "markdown",
   "metadata": {},
   "source": [
    "## Compute potential at the center\n",
    "\n",
    "$$ V(0) = \\int_V\\, d^3r\\, \\frac{\\rho({\\bf r})}{\\vert {\\bf r} \\vert} \\approx \\frac{V}{N}\\, \\sum_i\\, \\frac{\\rho({\\bf r}_i)}{\\vert {\\bf r}_i \\vert} $$"
   ]
  },
  {
   "cell_type": "code",
   "execution_count": 17,
   "metadata": {
    "collapsed": false
   },
   "outputs": [],
   "source": [
    "# Compute the denominator\n",
    "denom = np.linalg.norm(mol.grid, axis=1)"
   ]
  },
  {
   "cell_type": "code",
   "execution_count": 18,
   "metadata": {
    "collapsed": false
   },
   "outputs": [
    {
     "name": "stdout",
     "output_type": "stream",
     "text": [
      "Potential at origin = 1.6802\n"
     ]
    }
   ],
   "source": [
    "denom[0] = 1e6 # Add a very large term at 0 to prevent division by 0\n",
    "v_0 = np.sum(np.divide(rho,denom)) * (box/n)**3\n",
    "print(\"Potential at origin = {:.4f}\".format(v_0))"
   ]
  },
  {
   "cell_type": "markdown",
   "metadata": {},
   "source": [
    "## Exercise\n",
    "\n",
    "Compute the potential everywhere using Numpy functions (try not to use for loops!)\n",
    "\n",
    "$$ V({\\bf R}) = \\frac{V}{N}\\, \\sum_i\\, \\frac{\\rho({\\bf r}_i)}{\\vert {\\bf R} - {\\bf r}_i \\vert} $$"
   ]
  }
 ],
 "metadata": {
  "kernelspec": {
   "display_name": "Python 3",
   "language": "python",
   "name": "python3"
  },
  "language_info": {
   "codemirror_mode": {
    "name": "ipython",
    "version": 3
   },
   "file_extension": ".py",
   "mimetype": "text/x-python",
   "name": "python",
   "nbconvert_exporter": "python",
   "pygments_lexer": "ipython3",
   "version": "3.6.0"
  }
 },
 "nbformat": 4,
 "nbformat_minor": 2
}
