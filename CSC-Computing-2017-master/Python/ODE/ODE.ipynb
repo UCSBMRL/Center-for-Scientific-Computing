{
 "cells": [
  {
   "cell_type": "markdown",
   "metadata": {},
   "source": [
    "# Tutorial 1: Solving an ordinary differential equation\n",
    "\n",
    "In this notebook, we will use of the `numpy` and `scipy` packages to solve an ordinary differential equation(ODE). Then, we will illustrate how to solve many ODEs in parallel using the `concurrent` module.\n",
    "\n",
    "The `numpy` and `scipy` APIs are well documented with many examples:\n",
    "* The Scipy [documentation](https://docs.scipy.org/doc/scipy/reference/index.html#)\n",
    "* The Numpy [documentation](https://docs.scipy.org/doc/numpy-1.13.0/reference/index.html)\n",
    "\n",
    "We will make use of the [odeint](https://docs.scipy.org/doc/scipy/reference/generated/scipy.integrate.odeint.html#scipy.integrate.odeint) module from the `scipy` package to integrate the ODE. Let's first import the necessary packages:"
   ]
  },
  {
   "cell_type": "code",
   "execution_count": 1,
   "metadata": {
    "collapsed": false
   },
   "outputs": [],
   "source": [
    "# Imports\n",
    "import time\n",
    "import numpy as np\n",
    "from scipy.integrate import odeint \n",
    "from sklearn.model_selection import ParameterGrid\n",
    "import concurrent.futures \n",
    "import matplotlib.pyplot as plt\n",
    "\n",
    "# Plots will appear in the notebook\n",
    "%matplotlib inline "
   ]
  },
  {
   "cell_type": "markdown",
   "metadata": {},
   "source": [
    "Let's solve the following second order ODE:\n",
    "\n",
    "$$ \\frac{d^2 \\theta}{d t^2} + b\\, \\frac{d \\theta}{d t} + c\\, \\sin\\theta  = 0 $$"
   ]
  },
  {
   "cell_type": "markdown",
   "metadata": {},
   "source": [
    "The usual method involves re-writing it as a system of 1st order equations:\n",
    "\n",
    "$$ \\frac{d \\theta}{d t} = \\omega $$\n",
    "\n",
    "$$ \\frac{d \\omega}{d t} = -b \\omega - c \\sin\\theta $$"
   ]
  },
  {
   "cell_type": "code",
   "execution_count": 2,
   "metadata": {
    "collapsed": true
   },
   "outputs": [],
   "source": [
    "## Equations to be integrated\n",
    "def eom(y, t, b, c):\n",
    "    \"\"\"\n",
    "    y   : [th, om] where om = d(th)/dt\n",
    "    t   : time (sec)\n",
    "    b,c : parameters \n",
    "    \"\"\"\n",
    "    th, om = y\n",
    "\n",
    "    # Equations\n",
    "    dot_th = om\n",
    "    dot_om = -b*om - c*np.sin(th)\n",
    "\n",
    "    # Return as a list\n",
    "    return [dot_th, dot_om]"
   ]
  },
  {
   "cell_type": "markdown",
   "metadata": {},
   "source": [
    "Let's specify the time `t` the independent variable of the ODE, as well as the parameters `b` and `c`. For a unique solution, we need to specify two initial conditions, $\\theta(t=0)$ and $\\omega(t=0)$:"
   ]
  },
  {
   "cell_type": "code",
   "execution_count": 3,
   "metadata": {
    "collapsed": false
   },
   "outputs": [],
   "source": [
    "# Specity t\n",
    "duration = 90\n",
    "npts = 401\n",
    "\n",
    "# Choose the parameters in the equation\n",
    "b = 0.05\n",
    "c = 4.0\n",
    "\n",
    "# Time grid\n",
    "t = np.linspace(0,duration,npts)\n",
    "\n",
    "# Solve for a given set of initial conditions\n",
    "init_conds = [0.25*np.pi, 0.5]\n",
    "sol = odeint(eom, init_conds, t, args = (b, c))\n"
   ]
  },
  {
   "cell_type": "markdown",
   "metadata": {},
   "source": [
    "The solution is saved in array `sol`. The first column is $\\theta$ second one is $d\\theta / dt$:"
   ]
  },
  {
   "cell_type": "code",
   "execution_count": 4,
   "metadata": {
    "collapsed": false
   },
   "outputs": [
    {
     "data": {
      "text/plain": [
       "(401, 2)"
      ]
     },
     "execution_count": 4,
     "metadata": {},
     "output_type": "execute_result"
    }
   ],
   "source": [
    "sol.shape"
   ]
  },
  {
   "cell_type": "markdown",
   "metadata": {},
   "source": [
    "The first 10 entries for $\\theta$ and $\\omega$:"
   ]
  },
  {
   "cell_type": "code",
   "execution_count": 5,
   "metadata": {
    "collapsed": false,
    "scrolled": true
   },
   "outputs": [
    {
     "data": {
      "text/plain": [
       "array([[ 0.78539816,  0.5       ],\n",
       "       [ 0.82416595, -0.15816699],\n",
       "       [ 0.71642907, -0.78676721],\n",
       "       [ 0.47968059, -1.28744388],\n",
       "       [ 0.1546476 , -1.55493014],\n",
       "       [-0.19695814, -1.51778159],\n",
       "       [-0.50622808, -1.18838114],\n",
       "       [-0.71638353, -0.65492671],\n",
       "       [-0.79387853, -0.0266746 ],\n",
       "       [-0.72863297,  0.59840341]])"
      ]
     },
     "execution_count": 5,
     "metadata": {},
     "output_type": "execute_result"
    }
   ],
   "source": [
    "sol[:10]"
   ]
  },
  {
   "cell_type": "markdown",
   "metadata": {},
   "source": [
    "You can also select only the solution for $\\theta$ by (the first 10 in time):"
   ]
  },
  {
   "cell_type": "code",
   "execution_count": 6,
   "metadata": {
    "collapsed": false
   },
   "outputs": [
    {
     "data": {
      "text/plain": [
       "array([ 0.78539816,  0.82416595,  0.71642907,  0.47968059,  0.1546476 ,\n",
       "       -0.19695814, -0.50622808, -0.71638353, -0.79387853, -0.72863297])"
      ]
     },
     "execution_count": 6,
     "metadata": {},
     "output_type": "execute_result"
    }
   ],
   "source": [
    "sol[:10,0]"
   ]
  },
  {
   "cell_type": "markdown",
   "metadata": {},
   "source": [
    "Let's plot the solution using Matplotlib:"
   ]
  },
  {
   "cell_type": "code",
   "execution_count": 7,
   "metadata": {
    "collapsed": false
   },
   "outputs": [
    {
     "data": {
      "image/png": "[encoded data removed]",
      "text/plain": [
       "<matplotlib.figure.Figure at 0x114817da0>"
      ]
     },
     "metadata": {},
     "output_type": "display_data"
    }
   ],
   "source": [
    "# Setup the figure \n",
    "plt.figure(figsize=(10,6))\n",
    "plt.plot(t, sol[:,0], 'r-', label='theta') # theta\n",
    "plt.plot(t, sol[:,1], 'b-', label='omega') # theta'\n",
    "plt.xlabel('Time')\n",
    "plt.legend()\n",
    "plt.show()"
   ]
  },
  {
   "cell_type": "markdown",
   "metadata": {},
   "source": [
    "## Solve the ODE for a given range of initial conditions:"
   ]
  },
  {
   "cell_type": "markdown",
   "metadata": {},
   "source": [
    "Suppose we want to integrate this equation for a large number of initial conditions. For this example this is not very interesting, but suppose you are modeling a complex system which has high sensitity to initial conditions (e.g. climate modelling). Then, you may want to screen the solution for a large number of initial conditions. As a concrete example, check out the [Lorenz attractor](https://en.wikipedia.org/wiki/Lorenz_system).\n",
    "\n",
    "Let's define a function that returns a grid of initial conditions given a range of initial conditions for $\\theta(t=0)$ and $\\omega(t=0)$:"
   ]
  },
  {
   "cell_type": "code",
   "execution_count": 8,
   "metadata": {
    "collapsed": true
   },
   "outputs": [],
   "source": [
    "## Function to set the grid for the initial condition space\n",
    "# Notice that the function specifies default values as well\n",
    "def set_parameter_grid(rTh = (-0.25*np.pi, 0.25*np.pi), rOm = (-1,1), size = 100):\n",
    "    \"\"\"\n",
    "    Function for creating a grid of initial conditions\n",
    "    rTh    : range of th (-0.25*pi,0.25*pi)\n",
    "    rOm    : range of om\n",
    "    size   : Number of samples per theta and omega\n",
    "\n",
    "    Returns a dictionary containing a grid of initial conditions\n",
    "    \"\"\"\n",
    "    ths = np.random.uniform(rTh[0], rTh[1], size)\n",
    "    oms = np.random.uniform(rOm[0], rOm[1], size)\n",
    "\n",
    "    param_grid = {'th0':ths, 'om0':oms}\n",
    "    grid = ParameterGrid(param_grid)\n",
    "\n",
    "    return grid"
   ]
  },
  {
   "cell_type": "markdown",
   "metadata": {},
   "source": [
    "This function chooses random initial conditions from a uniform distributuion. Then, it creates a grid of all possible initial condition combinations. As a result, we will be screening a space of `size x size` initial conditions:"
   ]
  },
  {
   "cell_type": "code",
   "execution_count": 9,
   "metadata": {
    "collapsed": true
   },
   "outputs": [],
   "source": [
    "init_conds = list(set_parameter_grid(size=50))\n",
    "totlen = len(init_conds)"
   ]
  },
  {
   "cell_type": "markdown",
   "metadata": {},
   "source": [
    "Let's look at the first ten initial conditions to be used:"
   ]
  },
  {
   "cell_type": "code",
   "execution_count": 10,
   "metadata": {
    "collapsed": false,
    "scrolled": true
   },
   "outputs": [
    {
     "data": {
      "text/plain": [
       "[{'om0': -0.67387029712488467, 'th0': 0.7792451652368575},\n",
       " {'om0': -0.67387029712488467, 'th0': 0.76924170383187107},\n",
       " {'om0': -0.67387029712488467, 'th0': -0.65878882666727145},\n",
       " {'om0': -0.67387029712488467, 'th0': -0.4403819594550557},\n",
       " {'om0': -0.67387029712488467, 'th0': 0.4144098681691013},\n",
       " {'om0': -0.67387029712488467, 'th0': 0.23683545035571507},\n",
       " {'om0': -0.67387029712488467, 'th0': 0.11342149278287939},\n",
       " {'om0': -0.67387029712488467, 'th0': -0.42777231121002507},\n",
       " {'om0': -0.67387029712488467, 'th0': 0.41058012513426423},\n",
       " {'om0': -0.67387029712488467, 'th0': -0.43379203492695451}]"
      ]
     },
     "execution_count": 10,
     "metadata": {},
     "output_type": "execute_result"
    }
   ],
   "source": [
    "init_conds[:10]"
   ]
  },
  {
   "cell_type": "markdown",
   "metadata": {},
   "source": [
    "This is a **list** of **dictionaries**. For example, to get the first in the list, you can use:\n",
    "\n",
    "```python\n",
    "init_conds[0]['om0']\n",
    "```\n",
    "\n",
    "will give the first initial condition for $\\omega$ and the corressponding for $\\theta$ is:\n",
    "\n",
    "```python\n",
    "init_conds[0]['th0']\n",
    "```"
   ]
  },
  {
   "cell_type": "markdown",
   "metadata": {},
   "source": [
    "Let's now integrate the ODE for all the initial conditions in the list in a `for loop`:"
   ]
  },
  {
   "cell_type": "code",
   "execution_count": 11,
   "metadata": {
    "collapsed": false
   },
   "outputs": [],
   "source": [
    "# Initiate empty array to save solutions\n",
    "dofs = np.zeros((totlen, len(t), 2))\n",
    "\n",
    "# Loop over all initial conditions and integrate\n",
    "ii = 0\n",
    "start_t = time.time()\n",
    "for params in init_conds:\n",
    "    y0 = [params['th0'], params['om0']]\n",
    "    sol = odeint(eom, y0, t, args = (b, c))\n",
    "    \n",
    "    # Save\n",
    "    dofs[ii] = sol\n",
    "    ii +=1\n",
    "\n",
    "execution_t = time.time() - start_t"
   ]
  },
  {
   "cell_type": "markdown",
   "metadata": {},
   "source": [
    "The total time it takes to complete:"
   ]
  },
  {
   "cell_type": "code",
   "execution_count": 12,
   "metadata": {
    "collapsed": false,
    "scrolled": true
   },
   "outputs": [
    {
     "name": "stdout",
     "output_type": "stream",
     "text": [
      "Execution time: 27.0678 s\n"
     ]
    }
   ],
   "source": [
    "print(\"Execution time: {:.4f} s\".format(execution_t))"
   ]
  },
  {
   "cell_type": "markdown",
   "metadata": {},
   "source": [
    "For each 50x50 initial conditions, we have integrated the ODE to obtain solutions for $\\theta$ and $\\omega$. The resulting array we have saved has the following dimensions:"
   ]
  },
  {
   "cell_type": "code",
   "execution_count": 13,
   "metadata": {
    "collapsed": false
   },
   "outputs": [
    {
     "data": {
      "text/plain": [
       "(2500, 401, 2)"
      ]
     },
     "execution_count": 13,
     "metadata": {},
     "output_type": "execute_result"
    }
   ],
   "source": [
    "dofs.shape"
   ]
  },
  {
   "cell_type": "markdown",
   "metadata": {},
   "source": [
    "The solution for the first set of initial conditions can be obtained by\n",
    "\n",
    "```python\n",
    "dofs[0]\n",
    "```\n",
    "\n",
    "The second set of initials conditions by\n",
    "\n",
    "```python\n",
    "dofs[1]\n",
    "```\n",
    "\n",
    "etc.."
   ]
  },
  {
   "cell_type": "markdown",
   "metadata": {},
   "source": [
    "## Solve the ODE for a given range of initial conditions (parallel):\n",
    "\n",
    "Now, let's do the same thing in parallel. Your laptop contains more than a single core, so why not use them all?\n",
    "\n",
    "First we need to wrap what we did above in a function in order to pass it to a parallel executor:"
   ]
  },
  {
   "cell_type": "code",
   "execution_count": 14,
   "metadata": {
    "collapsed": true
   },
   "outputs": [],
   "source": [
    "# Simulate for all the initial conditions\n",
    "def simulate_all(init_conds):\n",
    "    \"\"\"\n",
    "    Simulate for a grid of initial conditions\n",
    "    \"\"\"\n",
    "    \n",
    "    # Get grid size\n",
    "    totlen = len(init_conds)\n",
    "    \n",
    "    # Initiate empty array\n",
    "    dofs = np.zeros((totlen, len(t), 2))\n",
    "    \n",
    "    # Iterate\n",
    "    ii = 0\n",
    "    for params in init_conds:\n",
    "        y0 = [params['th0'], params['om0']]\n",
    "        sol = odeint(eom, y0, t, args = (b, c))\n",
    "\n",
    "        # Save on dofs array\n",
    "        dofs[ii] = sol\n",
    "        ii +=1\n",
    "\n",
    "    # Return\n",
    "    return dofs"
   ]
  },
  {
   "cell_type": "markdown",
   "metadata": {},
   "source": [
    "**Important** : Notice that b,c are not defined in the function itself! Python first looks for the variables within the function, and then in the enclosing environment (lexical scoping).\n",
    "\n",
    "The above function will be called on a list of initial conditions. Each element in the list contains a subset of initial conditions and the parallel executor will process then concurrently:"
   ]
  },
  {
   "cell_type": "code",
   "execution_count": 16,
   "metadata": {
    "collapsed": false,
    "scrolled": true
   },
   "outputs": [
    {
     "name": "stdout",
     "output_type": "stream",
     "text": [
      "Total number of workers = 4\n",
      "Instances per worker = 625\n"
     ]
    }
   ],
   "source": [
    "# Parallel executor\n",
    "executor = concurrent.futures.ProcessPoolExecutor()\n",
    "n_workers = executor._max_workers\n",
    "case_per_worker = totlen // n_workers\n",
    "\n",
    "# Print report\n",
    "print(\"Total number of workers = {:d}\".format(n_workers))\n",
    "print(\"Instances per worker = {:d}\".format(case_per_worker))\n",
    "\n",
    "# Split the list of initial conditions between the workers\n",
    "splits = []\n",
    "for w in range(n_workers):\n",
    "    splits.append(init_conds[w*case_per_worker:(w+1)*case_per_worker])\n"
   ]
  },
  {
   "cell_type": "markdown",
   "metadata": {},
   "source": [
    "`splits` is a *list of lists* and contains the following (explictly):\n",
    "\n",
    "```python\n",
    "splits[0] : init_conds[0:625]\n",
    "splits[1] : init_conds[625:1250]\n",
    "splits[2] : init_conds[1250:1875]\n",
    "splits[3] : init_conds[1875:25000]\n",
    "```\n",
    "\n",
    "Let's have the `executor` *map* `simulate_all` on all the splits in parallel:"
   ]
  },
  {
   "cell_type": "code",
   "execution_count": 17,
   "metadata": {
    "collapsed": false
   },
   "outputs": [
    {
     "name": "stdout",
     "output_type": "stream",
     "text": [
      "Parallel execution complete, saving arrays...\n"
     ]
    }
   ],
   "source": [
    "# Obtain results in parallel\n",
    "start_t = time.time()\n",
    "arrs = list(executor.map(simulate_all, splits))\n",
    "execution_t = time.time() - start_t\n",
    "\n",
    "# Print report\n",
    "print(\"Parallel execution complete, saving arrays...\")\n",
    "\n",
    "# Concatenate arrays\n",
    "final_arr = np.concatenate(arrs, axis=0)"
   ]
  },
  {
   "cell_type": "code",
   "execution_count": 18,
   "metadata": {
    "collapsed": false,
    "scrolled": true
   },
   "outputs": [
    {
     "name": "stdout",
     "output_type": "stream",
     "text": [
      "Execution time: 12.7230 s\n"
     ]
    }
   ],
   "source": [
    "print(\"Execution time: {:.4f} s\".format(execution_t))"
   ]
  },
  {
   "cell_type": "markdown",
   "metadata": {},
   "source": [
    "Did we obtain the same solution?"
   ]
  },
  {
   "cell_type": "code",
   "execution_count": 19,
   "metadata": {
    "collapsed": false,
    "scrolled": true
   },
   "outputs": [
    {
     "data": {
      "text/plain": [
       "True"
      ]
     },
     "execution_count": 19,
     "metadata": {},
     "output_type": "execute_result"
    }
   ],
   "source": [
    "np.allclose(final_arr, dofs)"
   ]
  },
  {
   "cell_type": "markdown",
   "metadata": {},
   "source": [
    "### Exercise:\n",
    "\n",
    "Now, instead of integrating the ODEs for a number of initial conditions, modify the program so that it integrates the ODEs for a number of parameter combinations `b` and `c` for fixed initial conditions. "
   ]
  },
  {
   "cell_type": "markdown",
   "metadata": {},
   "source": [
    "## How to solve many ODEs in parallel on a cluster (e.g. Knot)"
   ]
  },
  {
   "cell_type": "markdown",
   "metadata": {},
   "source": [
    "On a remote cluster, you will need you wrap your Python program in a shell script. For example, let's call the program `integrateODE.py` from a script `submit.job` which looks like:\n",
    "\n",
    "```shell\n",
    "#!/bin/bash\n",
    "#PBS -l nodes=1:ppn=12\n",
    "#PBS -l walltime=01:00:00\n",
    "#PBS -N ODEInt\n",
    "\n",
    "#Go to the working directory\n",
    "cd $PBS_O_WORKDIR\n",
    "\n",
    "#Call python3 and enter the size parameter\n",
    "/sw/csc/anaconda3/bin/python integrateODE.py 100 > out\n",
    "```\n",
    "\n",
    "Then, you can submit this job in the queue:\n",
    "\n",
    "```shell\n",
    "qsub submit.job\n",
    "```\n",
    "\n",
    "to check the status of your job, you can use\n",
    "\n",
    "```shell\n",
    "qstat <job_id>\n",
    "```\n",
    "\n",
    "where `<job_id>` is the number assigned to your job by the scheduler. You can also use\n",
    "\n",
    "```shell\n",
    "showq -u <your_username>\n",
    "```\n",
    "\n",
    "to see the status of all the jobs you have submitted."
   ]
  }
 ],
 "metadata": {
  "kernelspec": {
   "display_name": "Python 3",
   "language": "python",
   "name": "python3"
  },
  "language_info": {
   "codemirror_mode": {
    "name": "ipython",
    "version": 3
   },
   "file_extension": ".py",
   "mimetype": "text/x-python",
   "name": "python",
   "nbconvert_exporter": "python",
   "pygments_lexer": "ipython3",
   "version": "3.6.0"
  }
 },
 "nbformat": 4,
 "nbformat_minor": 2
}
